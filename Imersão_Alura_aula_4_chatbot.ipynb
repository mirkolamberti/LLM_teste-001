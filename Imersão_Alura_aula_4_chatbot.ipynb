{
  "nbformat": 4,
  "nbformat_minor": 0,
  "metadata": {
    "colab": {
      "provenance": [],
      "authorship_tag": "ABX9TyNyNW6sTOXfjTyl3JDcLvwG",
      "include_colab_link": true
    },
    "kernelspec": {
      "name": "python3",
      "display_name": "Python 3"
    },
    "language_info": {
      "name": "python"
    }
  },
  "cells": [
    {
      "cell_type": "markdown",
      "metadata": {
        "id": "view-in-github",
        "colab_type": "text"
      },
      "source": [
        "<a href=\"https://colab.research.google.com/github/mirkolamberti/LLM_teste-001/blob/main/Imers%C3%A3o_Alura_aula_4_chatbot.ipynb\" target=\"_parent\"><img src=\"https://colab.research.google.com/assets/colab-badge.svg\" alt=\"Open In Colab\"/></a>"
      ]
    },
    {
      "cell_type": "markdown",
      "source": [
        "Exercitação aula 4 Imersão Alura com Google Gemini."
      ],
      "metadata": {
        "id": "KsWi5f_MOT2N"
      }
    },
    {
      "cell_type": "code",
      "execution_count": 1,
      "metadata": {
        "id": "rjiiD64SOHU4"
      },
      "outputs": [],
      "source": [
        "!pip install -q -U google-generativeai"
      ]
    },
    {
      "cell_type": "code",
      "source": [
        "# Import the Python SDK\n",
        "import google.generativeai as genai\n",
        "\n",
        "# Valor salvo no Secret do Collab\n",
        "# Used to securely store your API key\n",
        "from google.colab import userdata\n",
        "GOOGLE_API_KEY=userdata.get('GOOGLE_API_KEY')\n",
        "\n",
        "genai.configure(api_key=GOOGLE_API_KEY)"
      ],
      "metadata": {
        "id": "JMqMD6nzOast"
      },
      "execution_count": 2,
      "outputs": []
    },
    {
      "cell_type": "code",
      "source": [
        "for m in genai.list_models():\n",
        "  if 'generateContent' in m.supported_generation_methods:\n",
        "    print(m.name)"
      ],
      "metadata": {
        "colab": {
          "base_uri": "https://localhost:8080/",
          "height": 139
        },
        "id": "Nt12QabEOrXj",
        "outputId": "e241051a-e3b4-436d-9e6d-db1c6a2a8264"
      },
      "execution_count": 3,
      "outputs": [
        {
          "output_type": "stream",
          "name": "stdout",
          "text": [
            "models/gemini-1.0-pro\n",
            "models/gemini-1.0-pro-001\n",
            "models/gemini-1.0-pro-latest\n",
            "models/gemini-1.0-pro-vision-latest\n",
            "models/gemini-1.5-pro-latest\n",
            "models/gemini-pro\n",
            "models/gemini-pro-vision\n"
          ]
        }
      ]
    },
    {
      "cell_type": "code",
      "source": [
        "generation_cfg = {\n",
        "    'candidate_count': 1,\n",
        "    'temperature': 0.5,\n",
        "}"
      ],
      "metadata": {
        "id": "sq_dh33EP-mm"
      },
      "execution_count": 4,
      "outputs": []
    },
    {
      "cell_type": "code",
      "source": [
        "safety_set = {\n",
        "    'HARASSMENT': 'BLOCK_NONE',\n",
        "    'HATE': 'BLOCK_NONE',\n",
        "    'SEXUAL': 'BLOCK_NONE',\n",
        "    'DANGEROUS': 'BLOCK_NONE',\n",
        "}"
      ],
      "metadata": {
        "id": "Pu9Slf3dQh9L"
      },
      "execution_count": 5,
      "outputs": []
    },
    {
      "cell_type": "markdown",
      "source": [
        "Inicializando o modelo"
      ],
      "metadata": {
        "id": "_mFtEmxFRilM"
      }
    },
    {
      "cell_type": "code",
      "source": [
        "model = genai.GenerativeModel(model_name='gemini-1.0-pro',\n",
        "                              generation_config=generation_cfg,\n",
        "                              safety_settings=safety_set)"
      ],
      "metadata": {
        "id": "8t49ylQbReSG"
      },
      "execution_count": 6,
      "outputs": []
    },
    {
      "cell_type": "code",
      "source": [
        "# Primeiro exemplo de uso: envio um prompt e apresento a resposta\n",
        "response = model.generate_content('Vamos aprender conteúdo sobre IA. Me dé os parabéns em uma única palavra.')\n",
        "print(response.text)"
      ],
      "metadata": {
        "colab": {
          "base_uri": "https://localhost:8080/",
          "height": 34
        },
        "id": "Muh1XZDlSM_S",
        "outputId": "0211c425-5e80-4ffa-fd4f-9ecbad82c22f"
      },
      "execution_count": 7,
      "outputs": [
        {
          "output_type": "stream",
          "name": "stdout",
          "text": [
            "Parabéns!\n"
          ]
        }
      ]
    },
    {
      "cell_type": "code",
      "source": [
        "chat = model.start_chat(history=[])\n",
        "prompt = input('Esperando seu prompt: ')\n",
        "\n",
        "# Ciclo de chat para conversar com a LLM\n",
        "while prompt != 'fim':\n",
        "  response = chat.send_message(prompt)\n",
        "  print('Resposta: ', response.text, '\\n')\n",
        "  prompt = input('Esperando seu prompt: ')\n"
      ],
      "metadata": {
        "colab": {
          "base_uri": "https://localhost:8080/",
          "height": 1000
        },
        "id": "WAWIddDVTRWB",
        "outputId": "26da4c40-9b39-4baf-ba3c-1a1b53836c34"
      },
      "execution_count": 8,
      "outputs": [
        {
          "name": "stdout",
          "output_type": "stream",
          "text": [
            "Esperando seu prompt: ASK: Escreva a definição das operações a seguir: soma, subtração, multiplicação, divisão  CONTEXT: - aja como um professor de ensino fundamental - a público são alunos do 6º ano  CONSTRAINTS: - seja claro e completo na definição - escreva dois parágrafos para cada definição seguindo esse roteiro: definição acadêmica, explicação didâtica com exemplo - escreva a definição de cada operação evitando fazer comparações com as outras operações - use os exemplos para ter inspiração  STYLE: - Tone: formal e didático - Language: simples e bem didático  EXEMPLOS: - A soma é uma operação fundamental na matemática que combina dois ou  mais valores para obter um resultado único. Ela é representada pelo  símbolo \"+\". A operação de soma é amplamente utilizada em várias áreas  da matemática, ciência e em nosso cotidiano. A soma não se limita a apenas dois números. Podemos somar mais de  dois números de uma só vez. Por exemplo, se tivermos os números 2, 5 e  8, podemos calcular a soma deles da seguinte forma:  2 + 5 + 8 = 15  A soma também pode ser aplicada a diferentes tipos de números, como  inteiros, números decimais, frações ou até mesmo números complexos.  Independentemente do tipo de números envolvidos, as regras básicas da  soma permanecem as mesmas.  - A adição é uma operação matemática considerada básica, assim como a subtração, a multiplicação e a divisão.  Essa operação é essencial para o nosso cotidiano e está ligada a  acrescentar, juntar quantidades. Calcular a adição entre dois números é acrescentar uma certa quantia a outra já existente.  Por exemplo, se tenho 8 bananas e compro  mais 5 bananas, a adição é a operação que vai calcular a quantidade  total de bananas, acrescentando 5 bananas às 8 que já tenho. Utilizamos o  símbolo + (mais) entre os números para representar a adição, por  exemplo, 5 + 8 (lê-se: cinco mais oito).\n",
            "Resposta:  **Soma**\n",
            "\n",
            "* **Definição acadêmica:** A soma é uma operação matemática que combina dois ou mais números para obter um resultado único. É representada pelo símbolo \"+\".\n",
            "\n",
            "* **Explicação didática:** Imagine que você tem duas caixas de lápis. Uma caixa tem 5 lápis e a outra tem 3 lápis. Para saber quantos lápis você tem no total, você precisa somar os lápis das duas caixas. A soma é 5 + 3 = 8. Isso significa que você tem 8 lápis no total.\n",
            "\n",
            "**Subtração**\n",
            "\n",
            "* **Definição acadêmica:** A subtração é uma operação matemática que remove um número de outro. É representada pelo símbolo \"-\".\n",
            "\n",
            "* **Explicação didática:** Imagine que você tem 10 maçãs e come 5 delas. Para saber quantas maçãs você tem restantes, você precisa subtrair as maçãs que você comeu das maçãs que você tinha inicialmente. A subtração é 10 - 5 = 5. Isso significa que você tem 5 maçãs restantes. \n",
            "\n",
            "Esperando seu prompt: continue\n",
            "Resposta:  **Multiplicação**\n",
            "\n",
            "* **Definição acadêmica:** A multiplicação é uma operação matemática que combina um número por ele mesmo um determinado número de vezes. É representada pelo símbolo \"×\" ou pelo ponto (·).\n",
            "\n",
            "* **Explicação didática:** Imagine que você tem 3 caixas de lápis, e cada caixa tem 4 lápis. Para saber quantos lápis você tem no total, você precisa multiplicar o número de lápis por caixa pelo número de caixas. A multiplicação é 3 × 4 = 12. Isso significa que você tem 12 lápis no total.\n",
            "\n",
            "**Divisão**\n",
            "\n",
            "* **Definição acadêmica:** A divisão é uma operação matemática que divide um número por outro. É representada pelo símbolo \"÷\" ou pela barra (/).\n",
            "\n",
            "* **Explicação didática:** Imagine que você tem 12 lápis e quer dividi-los igualmente entre 3 amigos. Para saber quantos lápis cada amigo receberá, você precisa dividir o número total de lápis pelo número de amigos. A divisão é 12 ÷ 3 = 4. Isso significa que cada amigo receberá 4 lápis. \n",
            "\n",
            "Esperando seu prompt: Faça o mesmo explicando as frações\n",
            "Resposta:  **Frações**\n",
            "\n",
            "**Definição acadêmica:** Uma fração é um número racional que representa uma parte de um todo. É escrita como dois números separados por uma barra horizontal, onde o número superior é chamado de numerador e o número inferior é chamado de denominador.\n",
            "\n",
            "**Explicação didática:** Imagine que você tenha uma pizza dividida em 8 fatias iguais. Se você comer 3 fatias, a fração que representa as fatias que você comeu é 3/8. O numerador (3) indica o número de fatias que você comeu, e o denominador (8) indica o número total de fatias.\n",
            "\n",
            "**Operações com frações**\n",
            "\n",
            "As frações podem ser somadas, subtraídas, multiplicadas e divididas. Aqui estão as definições acadêmicas e explicações didáticas para cada operação:\n",
            "\n",
            "**Soma de frações**\n",
            "\n",
            "* **Definição acadêmica:** Para somar frações com o mesmo denominador, some os numeradores e mantenha o mesmo denominador. Para somar frações com denominadores diferentes, primeiro encontre um denominador comum e depois some os numeradores.\n",
            "\n",
            "* **Explicação didática:** Imagine que você tenha 1/2 de uma pizza e seu amigo tenha 1/4 de uma pizza. Para saber quanta pizza vocês têm juntos, você precisa somar as frações. Como as frações têm o mesmo denominador (2), você pode simplesmente somar os numeradores: 1/2 + 1/4 = 2/4. Isso significa que vocês têm 2/4 de uma pizza juntos, que é igual a 1/2 de uma pizza inteira.\n",
            "\n",
            "**Subtração de frações**\n",
            "\n",
            "* **Definição acadêmica:** Para subtrair frações com o mesmo denominador, subtraia os numeradores e mantenha o mesmo denominador. Para subtrair frações com denominadores diferentes, primeiro encontre um denominador comum e depois subtraia os numeradores.\n",
            "\n",
            "* **Explicação didática:** Imagine que você tenha 1/2 de uma pizza e coma 1/4 dela. Para saber quanta pizza você ainda tem, você precisa subtrair a fração que você comeu da fração que você tinha inicialmente. Como as frações têm o mesmo denominador (2), você pode simplesmente subtrair os numeradores: 1/2 - 1/4 = 1/4. Isso significa que você ainda tem 1/4 de uma pizza.\n",
            "\n",
            "**Multiplicação de frações**\n",
            "\n",
            "* **Definição acadêmica:** Para multiplicar frações, multiplique os numeradores e multiplique os denominadores.\n",
            "\n",
            "* **Explicação didática:** Imagine que você tenha 1/2 de uma pizza e queira dividi-la igualmente entre 2 amigos. Para saber quanta pizza cada amigo receberá, você precisa multiplicar a fração que você tem pelo número de amigos. A multiplicação é 1/2 × 2 = 1/4. Isso significa que cada amigo receberá 1/4 de uma pizza.\n",
            "\n",
            "**Divisão de frações**\n",
            "\n",
            "* **Definição acadêmica:** Para dividir frações, inverta a segunda fração (o divisor) e multiplique.\n",
            "\n",
            "* **Explicação didática:** Imagine que você tenha 1/2 de uma pizza e queira dividi-la em 4 fatias iguais. Para saber o tamanho de cada fatia, você precisa dividir a fração que você tem pelo número de fatias. A divisão é 1/2 ÷ 4 = 1/8. Isso significa que cada fatia tem 1/8 do tamanho da pizza inteira. \n",
            "\n",
            "Esperando seu prompt: fim\n"
          ]
        }
      ]
    },
    {
      "cell_type": "markdown",
      "source": [
        "Link aula: https://cursos.alura.com.br/imersoes/aulas/aula-4-criando-seu-proprio-chatbot-com-a-gemini-api-no-google-colab-c131\n",
        "\n",
        "Código aula 4: https://colab.research.google.com/drive/1wFIctGOaYwlgXD8xsyBiSi5LmTHrObai?usp=sharing\n"
      ],
      "metadata": {
        "id": "PFJgWxGqXc_j"
      }
    }
  ]
}